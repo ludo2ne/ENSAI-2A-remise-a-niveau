{
  "cells": [
    {
      "cell_type": "markdown",
      "metadata": {},
      "source": [
        "# Types et variables\n",
        "\n",
        "Ludovic Deneuville\n",
        "\n",
        "## Avant de commencer\n",
        "\n",
        "-   Téléchargez ce\n",
        "    <a href=\"01-types-et-variables.ipynb\" target=\"_blank\">notebook\n",
        "    Jupyter</a>\n",
        "-   Connectez-vous au\n",
        "    <a href=\"https://jupyther.ensai.fr/\" target=\"_blank\">Jupyter</a>\n",
        "    ENSAI avec id et mot de passe\n",
        "    -   ou une autre plate-forme (SSPCloud, Jupyter Lab, Google Colab,\n",
        "        Kaggle…)\n",
        "-   Importez le fichier .ipynb\n",
        "\n",
        "## Introduction\n",
        "\n",
        "Dans ce notebook, nous allons découvrir les types de base en python :\n",
        "\n",
        "-   numériques\n",
        "    -   **int** : entiers\n",
        "    -   **float** : décimaux\n",
        "-   chaines de caractères : **str**\n",
        "-   booléens : **bool**\n",
        "\n",
        "## 1 Affectation de variables"
      ],
      "id": "d209d6c1-857c-4cba-9b52-da2fcb25323f"
    },
    {
      "cell_type": "code",
      "execution_count": 1,
      "metadata": {
        "quarto-private-1": {
          "key": "vscode",
          "value": {
            "languageId": "python"
          }
        }
      },
      "outputs": [],
      "source": [
        "# Créer la variable a et lui affecter la valeur 8\n",
        "a = 8\n",
        "\n",
        "# Créer la variable b et lui affecter la chaîne de caractère \"texte\"\n",
        "b = \"texte\"\n",
        "\n",
        "# Créer la variable c et lui affecter le booléen True\n",
        "c = True"
      ],
      "id": "c7f93278"
    },
    {
      "cell_type": "code",
      "execution_count": 2,
      "metadata": {
        "quarto-private-1": {
          "key": "vscode",
          "value": {
            "languageId": "python"
          }
        }
      },
      "outputs": [],
      "source": [
        "# Afficher le contenu de a\n",
        "a"
      ],
      "id": "5c041e04"
    },
    {
      "cell_type": "markdown",
      "metadata": {},
      "source": [
        "Remarque : Un notebook n’affiche que la dernière valeur qui lui est\n",
        "demandé.  \n",
        "Pour réaliser plusieurs affichages, il faut utiliser la méthode\n",
        "**print**"
      ],
      "id": "78564a22-de7a-4f0c-ac8c-261d2f235008"
    },
    {
      "cell_type": "code",
      "execution_count": 3,
      "metadata": {
        "quarto-private-1": {
          "key": "vscode",
          "value": {
            "languageId": "python"
          }
        }
      },
      "outputs": [],
      "source": [
        "print(a+1)\n",
        "print(b)\n",
        "print(c)"
      ],
      "id": "c8790c7c"
    },
    {
      "cell_type": "markdown",
      "metadata": {},
      "source": [
        "Python est **langage typé dynamiquement**.  \n",
        "Cela siginifie qu’il est possible de modifier le type d’une variable\n",
        "sans contrainte.  \n",
        "Si la variable **a** contient du texte, il est possible de lui affecter\n",
        "ensuite un entier."
      ],
      "id": "00d11ae1-29e9-4509-b809-d402d50e838a"
    },
    {
      "cell_type": "code",
      "execution_count": 4,
      "metadata": {
        "quarto-private-1": {
          "key": "vscode",
          "value": {
            "languageId": "python"
          }
        }
      },
      "outputs": [],
      "source": [
        "print(a)\n",
        "a = \"abcd\"\n",
        "print(a)\n",
        "a = False\n",
        "print(a)"
      ],
      "id": "40ca04fd"
    },
    {
      "cell_type": "markdown",
      "metadata": {},
      "source": [
        "**Astuce** : Pour afficher toutes les variables créées et leurs valeurs,\n",
        "vous pouvez utiliser la commande `%whos`"
      ],
      "id": "9fe8ee00-bb41-494e-b61e-c3f81cc7b149"
    },
    {
      "cell_type": "code",
      "execution_count": 5,
      "metadata": {
        "quarto-private-1": {
          "key": "vscode",
          "value": {
            "languageId": "python"
          }
        }
      },
      "outputs": [],
      "source": [
        "%whos"
      ],
      "id": "a77fae67"
    },
    {
      "cell_type": "markdown",
      "metadata": {},
      "source": [
        "------------------------------------------------------------------------\n",
        "\n",
        "## 2 Nombres\n",
        "\n",
        "La fonction `type` permet de connaitre le type"
      ],
      "id": "60fb51f9-d3a7-4688-aabd-f759332cf4c2"
    },
    {
      "cell_type": "code",
      "execution_count": 6,
      "metadata": {
        "quarto-private-1": {
          "key": "vscode",
          "value": {
            "languageId": "python"
          }
        }
      },
      "outputs": [],
      "source": [
        "a = 8\n",
        "type(a)"
      ],
      "id": "5cad5e16"
    },
    {
      "cell_type": "code",
      "execution_count": 7,
      "metadata": {
        "quarto-private-1": {
          "key": "vscode",
          "value": {
            "languageId": "python"
          }
        }
      },
      "outputs": [],
      "source": [
        "b = 33.5\n",
        "type(b)"
      ],
      "id": "0524da1f"
    },
    {
      "cell_type": "code",
      "execution_count": 8,
      "metadata": {
        "quarto-private-1": {
          "key": "vscode",
          "value": {
            "languageId": "python"
          }
        }
      },
      "outputs": [],
      "source": [
        "float('inf')"
      ],
      "id": "44bb6ba0"
    },
    {
      "cell_type": "markdown",
      "metadata": {},
      "source": [
        "### 2.1 Convertions\n",
        "\n",
        "Les fonctions `float` et `int` peuvent être utilisées pour passer d’un\n",
        "type à l’autre."
      ],
      "id": "a881ae6b-306a-4e86-ad37-b3bdc0322deb"
    },
    {
      "cell_type": "code",
      "execution_count": 9,
      "metadata": {
        "quarto-private-1": {
          "key": "vscode",
          "value": {
            "languageId": "python"
          }
        }
      },
      "outputs": [],
      "source": [
        "# Conversion en float\n",
        "float(a)"
      ],
      "id": "fb588d8d"
    },
    {
      "cell_type": "code",
      "execution_count": 10,
      "metadata": {
        "quarto-private-1": {
          "key": "vscode",
          "value": {
            "languageId": "python"
          }
        }
      },
      "outputs": [],
      "source": [
        "# Conversion en int (partie entière)\n",
        "int(b)"
      ],
      "id": "b06fe63c"
    },
    {
      "cell_type": "code",
      "execution_count": 11,
      "metadata": {
        "quarto-private-1": {
          "key": "vscode",
          "value": {
            "languageId": "python"
          }
        }
      },
      "outputs": [],
      "source": [
        "# Notation scientifique\n",
        "2.1e3"
      ],
      "id": "d94426dd"
    },
    {
      "cell_type": "markdown",
      "metadata": {},
      "source": [
        "### 2.2 Opérations arithmétiques de base"
      ],
      "id": "f753c763-5adc-4f74-989e-c3d5ce1910e5"
    },
    {
      "cell_type": "code",
      "execution_count": 12,
      "metadata": {
        "quarto-private-1": {
          "key": "vscode",
          "value": {
            "languageId": "python"
          }
        }
      },
      "outputs": [],
      "source": [
        "# Addition\n",
        "1 + 1"
      ],
      "id": "9bd1bced"
    },
    {
      "cell_type": "code",
      "execution_count": 13,
      "metadata": {
        "quarto-private-1": {
          "key": "vscode",
          "value": {
            "languageId": "python"
          }
        }
      },
      "outputs": [],
      "source": [
        "# Soustraction\n",
        "6 - 2"
      ],
      "id": "b65f7cde"
    },
    {
      "cell_type": "code",
      "execution_count": 14,
      "metadata": {
        "quarto-private-1": {
          "key": "vscode",
          "value": {
            "languageId": "python"
          }
        }
      },
      "outputs": [],
      "source": [
        "# Multiplication\n",
        "3 * 4"
      ],
      "id": "f7b35590"
    },
    {
      "cell_type": "code",
      "execution_count": 15,
      "metadata": {
        "quarto-private-1": {
          "key": "vscode",
          "value": {
            "languageId": "python"
          }
        }
      },
      "outputs": [],
      "source": [
        "# Division\n",
        "11 / 5"
      ],
      "id": "6aa8f22d"
    },
    {
      "cell_type": "code",
      "execution_count": 16,
      "metadata": {
        "quarto-private-1": {
          "key": "vscode",
          "value": {
            "languageId": "python"
          }
        }
      },
      "outputs": [],
      "source": [
        "# Division euclidienne : quotient\n",
        "11 // 5"
      ],
      "id": "b845a7de"
    },
    {
      "cell_type": "code",
      "execution_count": 17,
      "metadata": {
        "quarto-private-1": {
          "key": "vscode",
          "value": {
            "languageId": "python"
          }
        }
      },
      "outputs": [],
      "source": [
        "# Division euclidienne : reste (modulo)\n",
        "11 % 5"
      ],
      "id": "19927af2"
    },
    {
      "cell_type": "code",
      "execution_count": 18,
      "metadata": {
        "quarto-private-1": {
          "key": "vscode",
          "value": {
            "languageId": "python"
          }
        }
      },
      "outputs": [],
      "source": [
        "# Puissance\n",
        "2 ** 10"
      ],
      "id": "0c528ed7"
    },
    {
      "cell_type": "code",
      "execution_count": 19,
      "metadata": {
        "quarto-private-1": {
          "key": "vscode",
          "value": {
            "languageId": "python"
          }
        }
      },
      "outputs": [],
      "source": [
        "# Racine carrée\n",
        "36 ** 0.5"
      ],
      "id": "2d63d4ee"
    },
    {
      "cell_type": "markdown",
      "metadata": {},
      "source": [
        "------------------------------------------------------------------------\n",
        "\n",
        "## 3 Chaînes de charactères\n",
        "\n",
        "Les chaînes de caractères (strings) sont utilisées pour stocker de\n",
        "l’information textuelle.\n",
        "\n",
        "Un *string* se définit en mettant l’information entre apostrophes `'` ou\n",
        "entre guillemets `\"`.\n",
        "\n",
        "### 3.1 Définition"
      ],
      "id": "ccb9c974-6bc0-4039-b59f-91ba95bfcb2b"
    },
    {
      "cell_type": "code",
      "execution_count": 20,
      "metadata": {
        "quarto-private-1": {
          "key": "vscode",
          "value": {
            "languageId": "python"
          }
        }
      },
      "outputs": [],
      "source": [
        "a = 'une chaine de caractères définie avec des apostrophes'\n",
        "a"
      ],
      "id": "591990f5"
    },
    {
      "cell_type": "code",
      "execution_count": 21,
      "metadata": {
        "quarto-private-1": {
          "key": "vscode",
          "value": {
            "languageId": "python"
          }
        }
      },
      "outputs": [],
      "source": [
        "b = \"une chaine de caractères définie avec des guillemets\"\n",
        "b"
      ],
      "id": "a4d048ec"
    },
    {
      "cell_type": "code",
      "execution_count": 22,
      "metadata": {
        "quarto-private-1": {
          "key": "vscode",
          "value": {
            "languageId": "python"
          }
        }
      },
      "outputs": [],
      "source": [
        "# Pour inclure une apostrophe à l'intérieur de la chaine\n",
        "\"j'inclus l'apostrophe\""
      ],
      "id": "ebd622ef"
    },
    {
      "cell_type": "code",
      "execution_count": 23,
      "metadata": {
        "quarto-private-1": {
          "key": "vscode",
          "value": {
            "languageId": "python"
          }
        }
      },
      "outputs": [],
      "source": [
        "# Pour inclure des guillemets à l'intérieur de la chaine\n",
        "'les \"guillemets\" sont là'"
      ],
      "id": "f97262ad"
    },
    {
      "cell_type": "markdown",
      "metadata": {},
      "source": [
        "### 3.2 Métodes utiles\n",
        "\n",
        "Voici un aperçu de quelques méthodes utiles. De nombreuses autres\n",
        "existent (voir [documentation\n",
        "officielle](https://docs.python.org/3/library/stdtypes.html#string-methods))"
      ],
      "id": "8dd46ea8-eb9a-47ef-87d4-fb1f3947ecad"
    },
    {
      "cell_type": "code",
      "execution_count": 24,
      "metadata": {
        "quarto-private-1": {
          "key": "vscode",
          "value": {
            "languageId": "python"
          }
        }
      },
      "outputs": [],
      "source": [
        "# Longueur d'une chaîne (nombre de caractères)\n",
        "len(\"J'ai 18 caractères\")"
      ],
      "id": "5dbeea26"
    },
    {
      "cell_type": "code",
      "execution_count": 25,
      "metadata": {
        "quarto-private-1": {
          "key": "vscode",
          "value": {
            "languageId": "python"
          }
        }
      },
      "outputs": [],
      "source": [
        "# Concaténation\n",
        "\"I am\" + \"your father\"\n",
        "\" \".join([\"I am\", \"your father\"])"
      ],
      "id": "7eed4acd"
    },
    {
      "cell_type": "code",
      "execution_count": 26,
      "metadata": {
        "quarto-private-1": {
          "key": "vscode",
          "value": {
            "languageId": "python"
          }
        }
      },
      "outputs": [],
      "source": [
        "# Concaténation avec un nombre\n",
        "annee = 2\n",
        "\"je suis en \" + annee + \"ème année\""
      ],
      "id": "2d93e2ea"
    },
    {
      "cell_type": "markdown",
      "metadata": {},
      "source": [
        "Problème, il faut au préalable convertir le nombre en chaîne de\n",
        "caractères.  \n",
        "La méthode **str** fait le travail."
      ],
      "id": "56f8d224-2edb-4a28-b568-8f034b6106be"
    },
    {
      "cell_type": "code",
      "execution_count": 27,
      "metadata": {
        "quarto-private-1": {
          "key": "vscode",
          "value": {
            "languageId": "python"
          }
        }
      },
      "outputs": [],
      "source": [
        "# Concaténation avec un nombre - après convertion du nombre en string\n",
        "annee = 2\n",
        "\"je suis en \" + str(annee) + \"ème année\""
      ],
      "id": "b61c67b9"
    },
    {
      "cell_type": "code",
      "execution_count": 28,
      "metadata": {
        "quarto-private-1": {
          "key": "vscode",
          "value": {
            "languageId": "python"
          }
        }
      },
      "outputs": [],
      "source": [
        "# Répétition\n",
        "\"hop \" * 5"
      ],
      "id": "3f70e727"
    },
    {
      "cell_type": "code",
      "execution_count": 29,
      "metadata": {
        "quarto-private-1": {
          "key": "vscode",
          "value": {
            "languageId": "python"
          }
        }
      },
      "outputs": [],
      "source": [
        "# Mettre en majuscules\n",
        "\"C'est OK\".upper()"
      ],
      "id": "887ce8a2"
    },
    {
      "cell_type": "code",
      "execution_count": 30,
      "metadata": {
        "quarto-private-1": {
          "key": "vscode",
          "value": {
            "languageId": "python"
          }
        }
      },
      "outputs": [],
      "source": [
        "# Mettre en minuscules\n",
        "\"C'est OK\".lower()"
      ],
      "id": "c601aaae"
    },
    {
      "cell_type": "code",
      "execution_count": 31,
      "metadata": {
        "quarto-private-1": {
          "key": "vscode",
          "value": {
            "languageId": "python"
          }
        }
      },
      "outputs": [],
      "source": [
        "# Compter le nombre d'occurences\n",
        "\"Mangez cinq fruits et légumes par jour\".count(\"a\")"
      ],
      "id": "982edbbf"
    },
    {
      "cell_type": "code",
      "execution_count": 32,
      "metadata": {
        "quarto-private-1": {
          "key": "vscode",
          "value": {
            "languageId": "python"
          }
        }
      },
      "outputs": [],
      "source": [
        "# Créer une liste de mots\n",
        "\"Mangez cinq fruits et légumes par jour\".split()"
      ],
      "id": "af12c0dc"
    },
    {
      "cell_type": "code",
      "execution_count": 33,
      "metadata": {
        "quarto-private-1": {
          "key": "vscode",
          "value": {
            "languageId": "python"
          }
        }
      },
      "outputs": [],
      "source": [
        "# Séparer les mots selon un caractère spécifique\n",
        "\"un-deux-trois-soleil\".split(\"-\")"
      ],
      "id": "3dd63cda"
    },
    {
      "cell_type": "code",
      "execution_count": 34,
      "metadata": {
        "quarto-private-1": {
          "key": "vscode",
          "value": {
            "languageId": "python"
          }
        }
      },
      "outputs": [],
      "source": [
        "# Utiliser les strings comme templates\n",
        "\"mon numéro est : {}\".format(\"06 12 34 56 78\")"
      ],
      "id": "ea531bea"
    },
    {
      "cell_type": "code",
      "execution_count": 35,
      "metadata": {
        "quarto-private-1": {
          "key": "vscode",
          "value": {
            "languageId": "python"
          }
        }
      },
      "outputs": [],
      "source": [
        "# Commence par ?\n",
        "\"vélo\".startswith(\"vé\")"
      ],
      "id": "ae981cc0"
    },
    {
      "cell_type": "code",
      "execution_count": 36,
      "metadata": {
        "quarto-private-1": {
          "key": "vscode",
          "value": {
            "languageId": "python"
          }
        }
      },
      "outputs": [],
      "source": [
        "# Se termine par ?\n",
        "\"vélo\".endswith(\"lo\")"
      ],
      "id": "7da79c57"
    },
    {
      "cell_type": "markdown",
      "metadata": {},
      "source": [
        "### 3.3 Extraire des sous-chaînes\n",
        "\n",
        "Une chaîne de caractères est considérée en Python comme une liste de\n",
        "caractères.  \n",
        "Il est donc possible d’extraire différents éléments de cette liste"
      ],
      "id": "4f27b238-5309-4cdd-9e22-55e3056ec525"
    },
    {
      "cell_type": "code",
      "execution_count": 37,
      "metadata": {
        "quarto-private-1": {
          "key": "vscode",
          "value": {
            "languageId": "python"
          }
        }
      },
      "outputs": [],
      "source": [
        "# Premier élémént\n",
        "\"c'est de toute beauté\"[0]"
      ],
      "id": "948c741b"
    },
    {
      "cell_type": "code",
      "execution_count": 38,
      "metadata": {
        "quarto-private-1": {
          "key": "vscode",
          "value": {
            "languageId": "python"
          }
        }
      },
      "outputs": [],
      "source": [
        "# Deuxième élémént\n",
        "\"c'est de toute beauté\"[1]"
      ],
      "id": "a8055805"
    },
    {
      "cell_type": "code",
      "execution_count": 39,
      "metadata": {
        "quarto-private-1": {
          "key": "vscode",
          "value": {
            "languageId": "python"
          }
        }
      },
      "outputs": [],
      "source": [
        "# Dernier élémént\n",
        "\"c'est de toute beauté\"[-1]"
      ],
      "id": "ac0c2331"
    },
    {
      "cell_type": "code",
      "execution_count": 40,
      "metadata": {
        "quarto-private-1": {
          "key": "vscode",
          "value": {
            "languageId": "python"
          }
        }
      },
      "outputs": [],
      "source": [
        "# À partir d'un certain caractère\n",
        "\"c'est de toute beauté\"[6:]"
      ],
      "id": "600d3c1c"
    },
    {
      "cell_type": "code",
      "execution_count": 41,
      "metadata": {
        "quarto-private-1": {
          "key": "vscode",
          "value": {
            "languageId": "python"
          }
        }
      },
      "outputs": [],
      "source": [
        "# Jusqu'à un certain caractère\n",
        "\"c'est de toute beauté\"[:8]"
      ],
      "id": "08b7cf1e"
    },
    {
      "cell_type": "code",
      "execution_count": 42,
      "metadata": {
        "quarto-private-1": {
          "key": "vscode",
          "value": {
            "languageId": "python"
          }
        }
      },
      "outputs": [],
      "source": [
        "# Extraire une sous-chaîne\n",
        "\"c'est de toute beauté\"[9:14]"
      ],
      "id": "ec6a9ba0"
    },
    {
      "cell_type": "code",
      "execution_count": 43,
      "metadata": {
        "quarto-private-1": {
          "key": "vscode",
          "value": {
            "languageId": "python"
          }
        }
      },
      "outputs": [],
      "source": [
        "# Extraire tous les 2 caractères, à partir de la 4 ème position\n",
        "\"c'est de toute beauté\"[4::2]"
      ],
      "id": "966d7067"
    },
    {
      "cell_type": "code",
      "execution_count": 44,
      "metadata": {
        "quarto-private-1": {
          "key": "vscode",
          "value": {
            "languageId": "python"
          }
        }
      },
      "outputs": [],
      "source": [
        "# Inverser une chaîne\n",
        "\"c'est de toute beauté\"[::-1]"
      ],
      "id": "fab7fd1a"
    },
    {
      "cell_type": "markdown",
      "metadata": {},
      "source": [
        "#### Caractères spéciaux\n",
        "\n",
        "Pour insérer des caractères spéciaux au sein d’une chaîne de caractère,\n",
        "il faut utiliser le caractère d’échappement `\\`.\n",
        "\n",
        "| Caractère | Description             |\n",
        "|-----------|-------------------------|\n",
        "| \\\\        | Caractère d’échappement |\n",
        "| \\\\        | Apostrophe              |\n",
        "| \\\\        | Guillemets doubles      |\n",
        "| \\n        | Retour à la ligne       |\n",
        "| \\t        | Tabulation horizontale  |\n",
        "| \\r        | Retour chariot          |"
      ],
      "id": "1bad929e-cf4c-4cad-8a98-172d871df7bc"
    },
    {
      "cell_type": "code",
      "execution_count": 45,
      "metadata": {
        "quarto-private-1": {
          "key": "vscode",
          "value": {
            "languageId": "python"
          }
        }
      },
      "outputs": [],
      "source": [
        "c = \"une chaîne\\nsur 2 lignes\"\n",
        "print(c)"
      ],
      "id": "bb9a0039"
    },
    {
      "cell_type": "code",
      "execution_count": 46,
      "metadata": {
        "quarto-private-1": {
          "key": "vscode",
          "value": {
            "languageId": "python"
          }
        }
      },
      "outputs": [],
      "source": [
        "# Définir une chaîne de caractères sur plusieurs lignes\n",
        "d = \"\"\"une autre \\\"possibilité\\\" pour\n",
        "avoir une chaîne sur 2 lignes\"\"\"\n",
        "print(d)"
      ],
      "id": "fb11f31f"
    },
    {
      "cell_type": "markdown",
      "metadata": {},
      "source": [
        "------------------------------------------------------------------------\n",
        "\n",
        "## 4 Booléens\n",
        "\n",
        "Les Booléens ne peuvent prendre que deux valeurs : `True` et `False`  \n",
        "Attention à bien respecter la notation avec la première lettre en\n",
        "majuscule et les autres en minuscule."
      ],
      "id": "4164dcee-4618-4192-ade6-e3ee98a46bde"
    },
    {
      "cell_type": "code",
      "execution_count": 47,
      "metadata": {
        "quarto-private-1": {
          "key": "vscode",
          "value": {
            "languageId": "python"
          }
        }
      },
      "outputs": [],
      "source": [
        "type(True)"
      ],
      "id": "023a72fd"
    },
    {
      "cell_type": "markdown",
      "metadata": {},
      "source": [
        "### 4.1 Opérateurs de comparaison\n",
        "\n",
        "| Opérateur | Signification           |\n",
        "|-----------|-------------------------|\n",
        "| ==        | Egal à                  |\n",
        "| !=        | Non égal à              |\n",
        "| \\<        | Strictement inférieur à |\n",
        "| \\>        | Strictement supérieur à |\n",
        "| \\<=       | Inférieur ou égal à     |\n",
        "| \\>=       | Supérieur ou égal à     |"
      ],
      "id": "c71e65ad-8e70-4729-a779-3ee535fadddf"
    },
    {
      "cell_type": "code",
      "execution_count": 48,
      "metadata": {
        "quarto-private-1": {
          "key": "vscode",
          "value": {
            "languageId": "python"
          }
        }
      },
      "outputs": [],
      "source": [
        "8 > 5"
      ],
      "id": "f028d916"
    },
    {
      "cell_type": "code",
      "execution_count": 49,
      "metadata": {
        "quarto-private-1": {
          "key": "vscode",
          "value": {
            "languageId": "python"
          }
        }
      },
      "outputs": [],
      "source": [
        "1+1 == 2"
      ],
      "id": "10b9c80e"
    },
    {
      "cell_type": "code",
      "execution_count": 50,
      "metadata": {
        "quarto-private-1": {
          "key": "vscode",
          "value": {
            "languageId": "python"
          }
        }
      },
      "outputs": [],
      "source": [
        "[1, 2, 3] == [1, 2, 3]"
      ],
      "id": "f2741601"
    },
    {
      "cell_type": "code",
      "execution_count": 51,
      "metadata": {
        "quarto-private-1": {
          "key": "vscode",
          "value": {
            "languageId": "python"
          }
        }
      },
      "outputs": [],
      "source": [
        "\"girafe\" != \"gnou\""
      ],
      "id": "98b7fa6a"
    },
    {
      "cell_type": "code",
      "execution_count": 52,
      "metadata": {
        "quarto-private-1": {
          "key": "vscode",
          "value": {
            "languageId": "python"
          }
        }
      },
      "outputs": [],
      "source": [
        "# Enchainement d'opérateurs\n",
        "1 < 2 == 2 >= 1 != 2"
      ],
      "id": "4955bd6d"
    },
    {
      "cell_type": "markdown",
      "metadata": {},
      "source": [
        "### 4.2 Opérateurs and, or, not"
      ],
      "id": "2edff47d-6681-494f-8d80-407aad5f880b"
    },
    {
      "cell_type": "code",
      "execution_count": 53,
      "metadata": {
        "quarto-private-1": {
          "key": "vscode",
          "value": {
            "languageId": "python"
          }
        }
      },
      "outputs": [],
      "source": [
        "a = True\n",
        "b = False\n",
        "\n",
        "a and b"
      ],
      "id": "fe082653"
    },
    {
      "cell_type": "code",
      "execution_count": 54,
      "metadata": {
        "quarto-private-1": {
          "key": "vscode",
          "value": {
            "languageId": "python"
          }
        }
      },
      "outputs": [],
      "source": [
        "a or b"
      ],
      "id": "0f117080"
    },
    {
      "cell_type": "code",
      "execution_count": 55,
      "metadata": {
        "quarto-private-1": {
          "key": "vscode",
          "value": {
            "languageId": "python"
          }
        }
      },
      "outputs": [],
      "source": [
        "not a"
      ],
      "id": "c3aad34b"
    },
    {
      "cell_type": "code",
      "execution_count": 56,
      "metadata": {
        "quarto-private-1": {
          "key": "vscode",
          "value": {
            "languageId": "python"
          }
        }
      },
      "outputs": [],
      "source": [
        "(a or b) and (a and not b)"
      ],
      "id": "739b6767"
    },
    {
      "cell_type": "markdown",
      "metadata": {},
      "source": [
        "------------------------------------------------------------------------\n",
        "\n",
        "## 5 Exercices\n",
        "\n",
        "### 5.1 Exercice 1\n",
        "\n",
        "Calculer la somme des longueurs des trois chaînes de caractères\n",
        "suivantes :\n",
        "\n",
        "-   “une première chaîne”\n",
        "-   “et une deuxième”\n",
        "-   “jamais deux sans trois”"
      ],
      "id": "d5ca57e7-ba79-4f83-ad2f-f092e49d7973"
    },
    {
      "cell_type": "code",
      "execution_count": 57,
      "metadata": {
        "quarto-private-1": {
          "key": "vscode",
          "value": {
            "languageId": "python"
          }
        }
      },
      "outputs": [],
      "source": [
        "# Tapez votre réponse dans cette cellule"
      ],
      "id": "d85d08db"
    },
    {
      "cell_type": "markdown",
      "metadata": {},
      "source": [
        "### 5.2 Exercice 2\n",
        "\n",
        "Quel est le type adapté pour définir un code postal ?\n",
        "\n",
        "Essayer de définir les codes postaux suivants au format `int` et au\n",
        "format `string` :\n",
        "\n",
        "-   92120\n",
        "-   02350\n",
        "\n",
        "Que concluez-vous ?"
      ],
      "id": "d9392bce-fe5e-4708-8640-ff45d1f7b6e9"
    },
    {
      "cell_type": "code",
      "execution_count": 58,
      "metadata": {
        "quarto-private-1": {
          "key": "vscode",
          "value": {
            "languageId": "python"
          }
        }
      },
      "outputs": [],
      "source": [
        "# Tapez votre réponse dans cette cellule"
      ],
      "id": "bd68dc5d"
    },
    {
      "cell_type": "markdown",
      "metadata": {},
      "source": [
        "### 5.3 Exercice 3\n",
        "\n",
        "Compter le nombre de fois où la lettre e est présente dans la chaîne\n",
        "suivante : `Je compte le nombre de e dans cette chaîne de caractères`"
      ],
      "id": "22a5137a-c74f-4143-8c08-003e5423f708"
    },
    {
      "cell_type": "code",
      "execution_count": 59,
      "metadata": {
        "quarto-private-1": {
          "key": "vscode",
          "value": {
            "languageId": "python"
          }
        }
      },
      "outputs": [],
      "source": [
        "# Tapez votre réponse dans cette cellule"
      ],
      "id": "57d5d215"
    },
    {
      "cell_type": "markdown",
      "metadata": {},
      "source": [
        "### 5.4 Exercice 4\n",
        "\n",
        "Repérer la première position où la lettre e est présente dans la chaîne\n",
        "suivante : “Je fais un comptage des e.”\n",
        "\n",
        "**Indice** : on peut utiliser la méthode *built-in*\n",
        "[find](https://docs.python.org/fr/3/library/stdtypes.html#str.find)."
      ],
      "id": "1293479a-df54-416f-b777-79652e5ccc88"
    },
    {
      "cell_type": "code",
      "execution_count": 60,
      "metadata": {
        "quarto-private-1": {
          "key": "vscode",
          "value": {
            "languageId": "python"
          }
        }
      },
      "outputs": [],
      "source": [
        "# Tapez votre réponse dans cette cellule"
      ],
      "id": "9f9d07e1"
    },
    {
      "cell_type": "markdown",
      "metadata": {},
      "source": [
        "### 5.5 Exercice 5\n",
        "\n",
        "Supprimer les espaces superflus au début et à la fin de la chaîne\n",
        "suivante :\n",
        "\n",
        "**Indice** : on peut utiliser la méthode *built-in*\n",
        "[strip](https://docs.python.org/fr/3/library/stdtypes.html#str.strip)."
      ],
      "id": "df70a044-5018-4eed-ad7f-2cf5925bde44"
    },
    {
      "cell_type": "code",
      "execution_count": 61,
      "metadata": {
        "quarto-private-1": {
          "key": "vscode",
          "value": {
            "languageId": "python"
          }
        }
      },
      "outputs": [],
      "source": [
        "# Tapez votre réponse dans cette cellule\n",
        "a = \"    Un string très mal formatté.         \""
      ],
      "id": "d9c40f65"
    },
    {
      "cell_type": "markdown",
      "metadata": {},
      "source": [
        "### 5.6 Exercice 6\n",
        "\n",
        "Réaliser la suite d’opérations suivantes à l’aide des opérateurs\n",
        "d’incrémentation, et imprimer la valeur finale :\n",
        "\n",
        "-   initialiser une variable à 1\n",
        "-   lui soustraire 5\n",
        "-   la multiplier par 4\n",
        "-   lui ajouter 22"
      ],
      "id": "3514e411-f9ec-492c-970e-ca33ff5d0312"
    },
    {
      "cell_type": "code",
      "execution_count": 62,
      "metadata": {
        "quarto-private-1": {
          "key": "vscode",
          "value": {
            "languageId": "python"
          }
        }
      },
      "outputs": [],
      "source": [
        "# Tapez votre réponse dans cette cellule"
      ],
      "id": "6a33f28e"
    },
    {
      "cell_type": "markdown",
      "metadata": {},
      "source": [
        "### 5.7 Exercice 7\n",
        "\n",
        "Considérons les deux séquences suivantes :\n",
        "\n",
        "-   “nous sommes en”\n",
        "-   “2022”\n",
        "\n",
        "Trouvez à partir du tutoriel deux manières différentes de les utiliser\n",
        "pour composer la séquence “nous sommes en 2022”."
      ],
      "id": "142706e9-ca41-48df-a4e2-8db33921a6e2"
    },
    {
      "cell_type": "code",
      "execution_count": 63,
      "metadata": {
        "quarto-private-1": {
          "key": "vscode",
          "value": {
            "languageId": "python"
          }
        }
      },
      "outputs": [],
      "source": [
        "# Tapez votre réponse dans cette cellule"
      ],
      "id": "a0bb1c12"
    }
  ],
  "nbformat": 4,
  "nbformat_minor": 5,
  "metadata": {
    "kernelspec": {
      "name": "python3",
      "display_name": "Python 3 (ipykernel)",
      "language": "python",
      "path": "/opt/hostedtoolcache/Python/3.10.18/x64/share/jupyter/kernels/python3"
    },
    "language_info": {
      "name": "python",
      "codemirror_mode": {
        "name": "ipython",
        "version": "3"
      },
      "file_extension": ".py",
      "mimetype": "text/x-python",
      "nbconvert_exporter": "python",
      "pygments_lexer": "ipython3",
      "version": "3.10.18"
    }
  }
}