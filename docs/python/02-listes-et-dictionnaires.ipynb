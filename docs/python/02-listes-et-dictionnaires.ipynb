{
  "cells": [
    {
      "cell_type": "markdown",
      "metadata": {},
      "source": [
        "# Listes et Dictionnaires\n",
        "\n",
        "Ludovic Deneuville\n",
        "\n",
        "## Avant de commencer\n",
        "\n",
        "-   Téléchargez ce\n",
        "    <a href=\"02-listes-et-dictionnaires.ipynb\" target=\"_blank\">notebook\n",
        "    Jupyter</a>\n",
        "-   Connectez-vous au\n",
        "    <a href=\"https://jupyther.ensai.fr/\" target=\"_blank\">Jupyter</a>\n",
        "    ENSAI avec id et mot de passe\n",
        "    -   ou une autre plate-forme (SSPCloud, Jupyter Lab, Google Colab,\n",
        "        Kaggle…)\n",
        "-   Importez le fichier .ipynb\n",
        "\n",
        "## 1 Conteneurs\n",
        "\n",
        "Il existe plusieurs structures de données en Python :\n",
        "\n",
        "-   Listes (list) : collection ordonnée et modifiable d’éléments\n",
        "-   Dictionnaires (dict) : collection non ordonnée de paires\n",
        "    **clé-valeur**\n",
        "-   Ensembles (set) : collection non ordonnée d’éléments **uniques**\n",
        "-   Tuples (tuple) : collection ordonnée et immuable d’éléments\n",
        "\n",
        "Nous allons ici nous concentrer sur les deux structures les plus\n",
        "courantes : les **listes** et les **dictionnaires**\n",
        "\n",
        "## 2 Listes\n",
        "\n",
        "Propriétés des listes Python :\n",
        "\n",
        "-   **Indexation** : Les éléments d’une liste sont indexés, ce qui\n",
        "    signifie qu’ils peuvent être accédés en utilisant leur position dans\n",
        "    la liste. L’index du premier élément est 0, et l’index du dernier\n",
        "    élément est len(liste) - 1.\n",
        "-   **Mutable** : Les listes sont des objets mutables, ce qui signifie\n",
        "    que vous pouvez modifier leurs éléments. Vous pouvez ajouter,\n",
        "    supprimer ou modifier des éléments.\n",
        "-   **Hétérogénéité** : Les listes peuvent contenir des éléments de\n",
        "    différents types de données : entiers, chaînes de caractères,\n",
        "    booléens, voire d’autres listes.\n",
        "-   **Longueur variable** : Les listes peuvent contenir un nombre\n",
        "    variable d’éléments. Elles peuvent être vides (sans éléments) ou\n",
        "    contenir un nombre illimité d’éléments.\n",
        "\n",
        "### 2.1 Créer une liste"
      ],
      "id": "a596aa98-7c18-432e-88bc-694e651a3041"
    },
    {
      "cell_type": "code",
      "execution_count": 1,
      "metadata": {},
      "outputs": [],
      "source": [
        "# Liste d'entiers\n",
        "a = [22, 29, 35, 56]\n",
        "a"
      ],
      "id": "5bdcce46"
    },
    {
      "cell_type": "code",
      "execution_count": 2,
      "metadata": {},
      "outputs": [],
      "source": [
        "type(a)"
      ],
      "id": "0fdc5562"
    },
    {
      "cell_type": "code",
      "execution_count": 3,
      "metadata": {},
      "outputs": [],
      "source": [
        "# Liste mixte\n",
        "b = [\"bonjour\", 20, True]\n",
        "print(b)"
      ],
      "id": "15f04220"
    },
    {
      "cell_type": "code",
      "execution_count": 4,
      "metadata": {},
      "outputs": [],
      "source": [
        "# Concaténation\n",
        "a + b"
      ],
      "id": "c6a4a06e"
    },
    {
      "cell_type": "code",
      "execution_count": 5,
      "metadata": {},
      "outputs": [],
      "source": [
        "# Répétition\n",
        "a * 2"
      ],
      "id": "4e9b4618"
    },
    {
      "cell_type": "markdown",
      "metadata": {},
      "source": [
        "Il existe de nombreuses autres possibilités pour créer des listes."
      ],
      "id": "20c1d479-1e78-451f-a3ac-70a251243748"
    },
    {
      "cell_type": "code",
      "execution_count": 6,
      "metadata": {},
      "outputs": [],
      "source": [
        "list(range(1, 7))"
      ],
      "id": "5a2e01e6"
    },
    {
      "cell_type": "code",
      "execution_count": 7,
      "metadata": {},
      "outputs": [],
      "source": [
        "[x for x in range(1, 7)]"
      ],
      "id": "22fd4603"
    },
    {
      "cell_type": "code",
      "execution_count": 8,
      "metadata": {},
      "outputs": [],
      "source": [
        "# En séparant une chaîne de caractères\n",
        "c = \"bleu;blanc;rouge;vert;jaune\"\n",
        "c.split(\";\")"
      ],
      "id": "7c7fffc3"
    },
    {
      "cell_type": "markdown",
      "metadata": {},
      "source": [
        "### 2.2 Méthodes utiles"
      ],
      "id": "2e857de5-b006-48ae-85f1-c1d9f7928172"
    },
    {
      "cell_type": "code",
      "execution_count": 9,
      "metadata": {},
      "outputs": [],
      "source": [
        "# Nombre d'éléments\n",
        "len(a)"
      ],
      "id": "d775050b"
    },
    {
      "cell_type": "code",
      "execution_count": 10,
      "metadata": {},
      "outputs": [],
      "source": [
        "# Premier élément\n",
        "a[0]"
      ],
      "id": "c1f3a036"
    },
    {
      "cell_type": "code",
      "execution_count": 11,
      "metadata": {},
      "outputs": [],
      "source": [
        "# Dernier élément\n",
        "a[-1]"
      ],
      "id": "74e21242"
    },
    {
      "cell_type": "code",
      "execution_count": 12,
      "metadata": {},
      "outputs": [],
      "source": [
        "# Tous les éléments à partir de la position 1\n",
        "a[1:]"
      ],
      "id": "b34d3beb"
    },
    {
      "cell_type": "code",
      "execution_count": 13,
      "metadata": {},
      "outputs": [],
      "source": [
        "# Tester si une valeur appartient à une liste\n",
        "22 in a"
      ],
      "id": "dd933c6e"
    },
    {
      "cell_type": "code",
      "execution_count": 14,
      "metadata": {},
      "outputs": [],
      "source": [
        "# Trouver la position d'un élément\n",
        "a.index(29)"
      ],
      "id": "83eb5521"
    },
    {
      "cell_type": "code",
      "execution_count": 15,
      "metadata": {},
      "outputs": [],
      "source": [
        "# Inverser une liste (sans modifier la liste d'origine)\n",
        "print(\"a[::-1] : \" + str(a[::-1]))\n",
        "print(\"a :       \" + str(a))"
      ],
      "id": "a1d243b0"
    },
    {
      "cell_type": "code",
      "execution_count": 16,
      "metadata": {},
      "outputs": [],
      "source": [
        "# Inverser une liste (ici l'inversion est sauvegardée dans la variable **a** )\n",
        "a.reverse()\n",
        "a"
      ],
      "id": "82a7d703"
    },
    {
      "cell_type": "code",
      "execution_count": 17,
      "metadata": {},
      "outputs": [],
      "source": [
        "# Trier une liste (sans modifier la liste d'origine)\n",
        "sorted(a)"
      ],
      "id": "071b4c19"
    },
    {
      "cell_type": "code",
      "execution_count": 18,
      "metadata": {},
      "outputs": [],
      "source": [
        "# Order décroissant\n",
        "sorted(a, reverse=True)"
      ],
      "id": "b4a1400b"
    },
    {
      "cell_type": "code",
      "execution_count": 19,
      "metadata": {},
      "outputs": [],
      "source": [
        "# Trier une liste (en sauvegardant la modification dans la variable **a**)\n",
        "print(\"Avant : \" + str(a))\n",
        "a.sort()\n",
        "print(\"Après : \" + str(a))"
      ],
      "id": "fbab80ef"
    },
    {
      "cell_type": "markdown",
      "metadata": {},
      "source": [
        "### 2.3 Ajouter, modifier et supprimer"
      ],
      "id": "0cc22e2a-cf76-4ae3-bdd7-de8f8ea0769e"
    },
    {
      "cell_type": "code",
      "execution_count": 20,
      "metadata": {},
      "outputs": [],
      "source": [
        "# Ajouter à la fin\n",
        "a.append(44)\n",
        "a"
      ],
      "id": "b3ed61d3"
    },
    {
      "cell_type": "code",
      "execution_count": 21,
      "metadata": {},
      "outputs": [],
      "source": [
        "# Insérer à une position précise\n",
        "a.insert(2, 88)\n",
        "a"
      ],
      "id": "c0b4cdb7"
    },
    {
      "cell_type": "code",
      "execution_count": 22,
      "metadata": {},
      "outputs": [],
      "source": [
        "# Modifier\n",
        "a[0] = 99\n",
        "a"
      ],
      "id": "3b8fdd4b"
    },
    {
      "cell_type": "code",
      "execution_count": 23,
      "metadata": {},
      "outputs": [],
      "source": [
        "# Supprimer par position\n",
        "a.pop(3)\n",
        "a"
      ],
      "id": "d0c54407"
    },
    {
      "cell_type": "code",
      "execution_count": 24,
      "metadata": {},
      "outputs": [],
      "source": [
        "# Supprimer par valeur\n",
        "a.remove(44)\n",
        "a"
      ],
      "id": "731065ce"
    },
    {
      "cell_type": "markdown",
      "metadata": {},
      "source": [
        "### 2.4 Copier une liste\n",
        "\n",
        "Observez, puis exécutez le code ci-dessous, il contient les instructions\n",
        "suivantes :\n",
        "\n",
        "-   création de la variable **liste**\n",
        "-   création de la variable **copie**\n",
        "-   suppression du dernier élément de **copie**\n",
        "-   affichage de **liste**"
      ],
      "id": "78fd8949-26c7-41f4-afbd-f2e6ee68c358"
    },
    {
      "cell_type": "code",
      "execution_count": 25,
      "metadata": {},
      "outputs": [],
      "source": [
        "liste = [1, 2, 3, 4]\n",
        "liste2 = liste\n",
        "liste2.pop()\n",
        "liste"
      ],
      "id": "9182e2b2"
    },
    {
      "cell_type": "markdown",
      "metadata": {},
      "source": [
        "Nous pourrions nous attendre à ce que la variable **liste** ne soit pas\n",
        "modifiée et affiche `[1, 2, 3, 4]`.  \n",
        "Pourtant la variable **liste2** n’est pas une copie de **liste**, c’est\n",
        "simplement une autre manière d’appeler la même liste."
      ],
      "id": "5ac97d13-b869-469d-b96a-fbd1bf048cef"
    },
    {
      "cell_type": "code",
      "execution_count": 26,
      "metadata": {},
      "outputs": [],
      "source": [
        "# Pour créer une vraie copie qui sera distinct de l'original\n",
        "copie = list(liste)\n",
        "copie.append(9)\n",
        "liste, copie"
      ],
      "id": "0963ec89"
    },
    {
      "cell_type": "code",
      "execution_count": 27,
      "metadata": {},
      "outputs": [],
      "source": [
        "# Autre possibilité pour copier\n",
        "cp = liste.copy()\n",
        "cp.append(8)\n",
        "liste, cp"
      ],
      "id": "c04ea1a3"
    },
    {
      "cell_type": "markdown",
      "metadata": {},
      "source": [
        "------------------------------------------------------------------------\n",
        "\n",
        "## 3 Dictionnaires\n",
        "\n",
        "Propriétés importantes d’un dictionnaire en Python :\n",
        "\n",
        "-   **Indexation par clé** : Les éléments d’un dictionnaire sont indexés\n",
        "    par des clés plutôt que par des positions. **Chaque clé doit être\n",
        "    unique** dans le dictionnaire, et elle est associée à une valeur\n",
        "    correspondante. La recherche d’une valeur associée à une clé est\n",
        "    très rapide.\n",
        "-   **Mutable** : Les dictionnaires sont des objets mutables, ce qui\n",
        "    signifie que vous pouvez ajouter, supprimer ou modifier des éléments\n",
        "    du dictionnaire après sa création.\n",
        "-   **Hétérogénéité** : Les dictionnaires peuvent contenir des paires\n",
        "    clé-valeur avec des types de données différents. Les clés peuvent\n",
        "    être de types immuables tels que les chaînes de caractères, les\n",
        "    entiers… Les valeurs peuvent être de n’importe quel type de données\n",
        "    valide en Python.\n",
        "-   **Longueur variable** : Les dictionnaires peuvent contenir un nombre\n",
        "    variable de paires clé-valeur. Ils peuvent être vides (sans paires\n",
        "    clé-valeur) ou contenir un nombre illimité de paires.\n",
        "-   **Non ordonné** : Contrairement aux listes, les éléments d’un\n",
        "    dictionnaire n’ont pas d’ordre défini. L’ordre dans lequel les\n",
        "    paires clé-valeur sont stockées n’est pas garanti et peut changer\n",
        "    lors des opérations de modification du dictionnaire.\n",
        "\n",
        "### 3.1 Créer un dictionnaire"
      ],
      "id": "1f0ce539-ec82-48fd-a073-a432081e865f"
    },
    {
      "cell_type": "code",
      "execution_count": 28,
      "metadata": {},
      "outputs": [],
      "source": [
        "ingredients = {'sucre': '100g', 'poire': 2, 'lait': '1L', 'sel': True}\n",
        "ingredients"
      ],
      "id": "4e24b5d0"
    },
    {
      "cell_type": "code",
      "execution_count": 29,
      "metadata": {},
      "outputs": [],
      "source": [
        "type(ingredients)"
      ],
      "id": "cf527ee8"
    },
    {
      "cell_type": "code",
      "execution_count": 30,
      "metadata": {},
      "outputs": [],
      "source": [
        "# Nombre d'éléments\n",
        "len(ingredients)"
      ],
      "id": "bfb3f804"
    },
    {
      "cell_type": "code",
      "execution_count": 31,
      "metadata": {},
      "outputs": [],
      "source": [
        "# Recherche par clé\n",
        "ingredients['lait']"
      ],
      "id": "7d599c21"
    },
    {
      "cell_type": "code",
      "execution_count": 32,
      "metadata": {},
      "outputs": [],
      "source": [
        "# Recherche par clé - autre possibilité\n",
        "ingredients.get('lait')"
      ],
      "id": "aead3dff"
    },
    {
      "cell_type": "markdown",
      "metadata": {},
      "source": [
        "### 3.2 Ajouter, modifier et supprimer"
      ],
      "id": "778e8269-8294-44e9-823e-01b56d672bb4"
    },
    {
      "cell_type": "code",
      "execution_count": 33,
      "metadata": {},
      "outputs": [],
      "source": [
        "# Ajouter un élément\n",
        "ingredients['fraise'] =  '200g'\n",
        "ingredients"
      ],
      "id": "daeea6fe"
    },
    {
      "cell_type": "code",
      "execution_count": 34,
      "metadata": {},
      "outputs": [],
      "source": [
        "# Modifier\n",
        "ingredients['sucre'] =  '35g'\n",
        "ingredients"
      ],
      "id": "2fbf104c"
    },
    {
      "cell_type": "code",
      "execution_count": 35,
      "metadata": {},
      "outputs": [],
      "source": [
        "# Supprimer \n",
        "ingredients.pop('lait')\n",
        "ingredients"
      ],
      "id": "97700f87"
    },
    {
      "cell_type": "markdown",
      "metadata": {},
      "source": [
        "### 3.3 Méthodes utiles"
      ],
      "id": "f35b8da4-413a-4798-b64c-fec95431cad8"
    },
    {
      "cell_type": "code",
      "execution_count": 36,
      "metadata": {},
      "outputs": [],
      "source": [
        "# Liste des clés\n",
        "list(ingredients.keys())      # idem : list(ingredients)"
      ],
      "id": "c2003ede"
    },
    {
      "cell_type": "code",
      "execution_count": 37,
      "metadata": {},
      "outputs": [],
      "source": [
        "# Liste des valeurs\n",
        "list(ingredients.values())"
      ],
      "id": "621e96af"
    },
    {
      "cell_type": "code",
      "execution_count": 38,
      "metadata": {},
      "outputs": [],
      "source": [
        "# Liste des items (liste de tuples)\n",
        "list(ingredients.items())"
      ],
      "id": "09e2da7d"
    },
    {
      "cell_type": "markdown",
      "metadata": {},
      "source": [
        "## 4 Les types « vide »\n",
        "\n",
        "Maintenant que nous avons vu les listes et les dictionnaires, nous\n",
        "pouvons parler des types **vides**.  \n",
        "Par exemple, il est possible de créer :\n",
        "\n",
        "-   une variable qui ne contient rien : `None`\n",
        "-   une liste vide `[]`\n",
        "-   un dictionnaire vide `{}`"
      ],
      "id": "7dcc6fb4-45f9-4765-b355-822ed5e17db7"
    },
    {
      "cell_type": "code",
      "execution_count": 39,
      "metadata": {},
      "outputs": [],
      "source": [
        "x = None\n",
        "type(x)"
      ],
      "id": "2e299984"
    },
    {
      "cell_type": "code",
      "execution_count": 40,
      "metadata": {},
      "outputs": [],
      "source": [
        "y = []\n",
        "type(y)"
      ],
      "id": "429398c1"
    },
    {
      "cell_type": "code",
      "execution_count": 41,
      "metadata": {},
      "outputs": [],
      "source": [
        "z = {}\n",
        "type(z)"
      ],
      "id": "013e7d94"
    },
    {
      "cell_type": "markdown",
      "metadata": {},
      "source": [
        "## 5 Exercices\n",
        "\n",
        "### 5.1 Exercice 1\n",
        "\n",
        "En partant de la liste\n",
        "`notes = [\"do\", \"re\", \"re\", \"re\", \"fa\", \"sol\", \"solsi\", \"la\"]`,\n",
        "**ajoutez, supprimez et modifiez** des éléments pour qu’elle contienne\n",
        "les notes de musique “do re mi fa sol la si” dans le bon ordre."
      ],
      "id": "50440e8a-6579-4298-97cb-9690e02c2535"
    },
    {
      "cell_type": "code",
      "execution_count": 42,
      "metadata": {},
      "outputs": [],
      "source": [
        "# Testez votre réponse dans cette cellule"
      ],
      "id": "080c9d39"
    },
    {
      "cell_type": "markdown",
      "metadata": {},
      "source": [
        "### 5.2 Exercice 2\n",
        "\n",
        "Proposez deux méthodes pour inverser la liste\n",
        "`[\"un\", \"deux\", \"trois\", \"quatre\"]`. Quelle est la différence majeure\n",
        "entre les deux méthodes ?"
      ],
      "id": "2e86e4ff-e274-4983-90c6-61d039c9e7c1"
    },
    {
      "cell_type": "code",
      "execution_count": 43,
      "metadata": {},
      "outputs": [],
      "source": [
        "# Testez votre réponse dans cette cellule"
      ],
      "id": "5d6cf4e8"
    },
    {
      "cell_type": "markdown",
      "metadata": {},
      "source": [
        "### 5.3 Exercice 3\n",
        "\n",
        "Testez le comportement de la méthode **pop** sur la liste des entiers de\n",
        "1 à 9.  \n",
        "Par exemple, testez **pop()** sans paramètres ou encore **pop(-1)**."
      ],
      "id": "c3ac75d4-f1ba-4139-b54a-11314976769d"
    },
    {
      "cell_type": "code",
      "execution_count": 44,
      "metadata": {},
      "outputs": [],
      "source": [
        "# Testez votre réponse dans cette cellule"
      ],
      "id": "d7960959"
    },
    {
      "cell_type": "markdown",
      "metadata": {},
      "source": [
        "### 5.4 Exercice 4\n",
        "\n",
        "Testez le comportement des méthodes **min** et **max** sur :\n",
        "\n",
        "-   sur une liste composée uniquement d’objets numériques (`int` et\n",
        "    `float`) ;\n",
        "-   sur une liste composée uniquement de chaînes de caractères ;\n",
        "-   sur une liste composée d’un mélange d’objets numériques et textuels."
      ],
      "id": "082dcaf2-f98f-44ce-82c6-6c547693edbd"
    },
    {
      "cell_type": "code",
      "execution_count": 45,
      "metadata": {},
      "outputs": [],
      "source": [
        "# Testez votre réponse dans cette cellule"
      ],
      "id": "85106836"
    },
    {
      "cell_type": "markdown",
      "metadata": {},
      "source": [
        "### 5.5 Exercice 5\n",
        "\n",
        "Essayer de créer une liste vide puis vérifiez son type.  \n",
        "Quel intérêt cela pourrait-il avoir ?"
      ],
      "id": "f646520c-7594-4079-857a-4b613147b4ef"
    },
    {
      "cell_type": "code",
      "execution_count": 46,
      "metadata": {},
      "outputs": [],
      "source": [
        "# Testez votre réponse dans cette cellule"
      ],
      "id": "852ab12b"
    },
    {
      "cell_type": "markdown",
      "metadata": {},
      "source": [
        "### 5.6 Exercice 6\n",
        "\n",
        "Soit le dictionnaire suivant : `animaux = {'chats': 5, 'chiens': 12}`\n",
        "\n",
        "Que vont retourner les tests d’appartenance suivants ? Vérifiez vos\n",
        "prédictions.\n",
        "\n",
        "-   `'chats' in animaux.keys()`\n",
        "-   `'chats' in animaux.values()`\n",
        "-   `'chats' in animaux`"
      ],
      "id": "f4f9f489-d372-4076-8897-d6f3ecafee20"
    },
    {
      "cell_type": "code",
      "execution_count": 47,
      "metadata": {},
      "outputs": [],
      "source": [
        "# Testez votre réponse dans cette cellule"
      ],
      "id": "3b0043af"
    },
    {
      "cell_type": "markdown",
      "metadata": {},
      "source": [
        "### 5.7 Exercice 7\n",
        "\n",
        "Soit le dictionnaire défini dans la cellule ci-dessous.  \n",
        "Affichez à l’aide d’opérations print :\n",
        "\n",
        "-   la liste des noms des différentes classes\n",
        "-   la note de Miranda en histoire\n",
        "-   la liste des notes obtenues par Hypolyte\n",
        "-   la liste des noms des élèves de la 6emeB\n",
        "-   la liste des matières enseignées en 6eme A\n",
        "-   la liste de toutes les matières enseignées\n",
        "-   la liste des notes obtenues par les filles des deux classes"
      ],
      "id": "18a93a4a-8588-438a-acaa-c8611cf55607"
    },
    {
      "cell_type": "code",
      "execution_count": 48,
      "metadata": {},
      "outputs": [],
      "source": [
        "resultats = {\n",
        "    \"6emeA\": {\"Miranda\" : {\"notes\": {\"physique\": 16, \"histoire\": 12}},\n",
        "              \"Celestin\": {\"notes\": {\"physique\": \"absent\", \"histoire\": 18}}\n",
        "             },\n",
        "    \"6emeB\": {\"Hypolyte\": {\"notes\": {\"maths\": 11, \"anglais\": 0}},\n",
        "              \"Josephine\": {\"notes\": {\"maths\": 16, \"anglais\": 20}}\n",
        "             }\n",
        "}"
      ],
      "id": "a1fc43de"
    },
    {
      "cell_type": "code",
      "execution_count": 49,
      "metadata": {},
      "outputs": [],
      "source": [
        "# Testez votre réponse dans cette cellule"
      ],
      "id": "dcdff1b6"
    },
    {
      "cell_type": "markdown",
      "metadata": {},
      "source": [
        "### 5.8 Exercice 8\n",
        "\n",
        "À l’aide d’un dictionnaire, comptez puis affichez le nombre d’occurences\n",
        "de chaque caractère dans la phrase suivante :\n",
        "\n",
        "-   `Je compte le nombre d'occurences de chaque caractère de la phrase courante.`\n",
        "\n",
        "**Astuce** : au préalable, faites un test sur une chaine plus petite."
      ],
      "id": "738c7c34-d760-4e78-af75-0a2fc32aedbd"
    },
    {
      "cell_type": "code",
      "execution_count": 50,
      "metadata": {},
      "outputs": [],
      "source": [
        "# Testez votre réponse dans cette cellule"
      ],
      "id": "7fd4bd2a"
    },
    {
      "cell_type": "markdown",
      "metadata": {},
      "source": [
        "### 5.9 Exercice 9\n",
        "\n",
        "Nettoyer cette liste pour retirer tous les doublons et ne conserver\n",
        "qu’une seule occurence de chaque fruit :\n",
        "\n",
        "-   `fruits = ['pomme', 'banane', 'orange', 'fraise', 'citron', 'fraise', 'banane', 'orange', 'banane', 'pomme', 'fraise']`\n",
        "\n",
        "**Indice** : utiliser les set"
      ],
      "id": "23a72475-65ef-40eb-b2a1-e484755d66cc"
    },
    {
      "cell_type": "code",
      "execution_count": 51,
      "metadata": {},
      "outputs": [],
      "source": [
        "# Testez votre réponse dans cette cellule"
      ],
      "id": "29182d47"
    }
  ],
  "nbformat": 4,
  "nbformat_minor": 5,
  "metadata": {
    "kernelspec": {
      "name": "python3",
      "display_name": "Python 3 (ipykernel)",
      "language": "python",
      "path": "/opt/hostedtoolcache/Python/3.10.18/x64/share/jupyter/kernels/python3"
    },
    "language_info": {
      "name": "python",
      "codemirror_mode": {
        "name": "ipython",
        "version": "3"
      },
      "file_extension": ".py",
      "mimetype": "text/x-python",
      "nbconvert_exporter": "python",
      "pygments_lexer": "ipython3",
      "version": "3.10.18"
    }
  }
}