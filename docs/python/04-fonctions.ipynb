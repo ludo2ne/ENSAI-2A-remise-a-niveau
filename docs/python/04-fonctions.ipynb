{
  "cells": [
    {
      "cell_type": "markdown",
      "metadata": {},
      "source": [
        "# Les fonctions\n",
        "\n",
        "Ludovic Deneuville\n",
        "\n",
        "## Avant de commencer\n",
        "\n",
        "-   Téléchargez ce\n",
        "    <a href=\"04-fonctions.ipynb\" target=\"_blank\">notebook Jupyter</a>\n",
        "-   Connectez-vous au\n",
        "    <a href=\"https://jupyther.ensai.fr/\" target=\"_blank\">Jupyter</a>\n",
        "    ENSAI avec id et mot de passe\n",
        "    -   ou une autre plate-forme (SSPCloud, Jupyter Lab, Google Colab,\n",
        "        Kaggle…)\n",
        "-   Importez le fichier .ipynb\n",
        "\n",
        "## 1 Fonctions\n",
        "\n",
        "L’idée d’une fonction est de regrouper ensemble des morceaux de codes\n",
        "qui pourraient être utilisés à plusieurs endroits de votre programme.  \n",
        "Utiliser des fonctions est une bonne pratique :\n",
        "\n",
        "-   cela réduit la duplication du code\n",
        "-   cela permet de mieux structurer le code et le rendre plus clair\n",
        "\n",
        "Une fonction est composée de :\n",
        "\n",
        "-   un ensemble de paramètres\n",
        "-   des instructions qui utilisent les paramètres\n",
        "-   retourne ou affiche un résultat\n",
        "\n",
        "Le mot clé **def** sert à définir une fonction.  \n",
        "Voici un exemple de fonction :\n",
        "\n",
        "-   Nom de la fonction : ma_fonction\n",
        "-   Paramètres : 2 paramètres p1 et p2\n",
        "-   Sortie : résultat de l’opération p1 x p2 + p1 + 5"
      ],
      "id": "c887d1ea-dc9b-4950-bffb-23648bac0e49"
    },
    {
      "cell_type": "code",
      "execution_count": 1,
      "metadata": {},
      "outputs": [],
      "source": [
        "def ma_fonction(p1, p2):\n",
        "    resultat = p1 * p2 + p1 + 5\n",
        "    return resultat"
      ],
      "id": "3ffe1287"
    },
    {
      "cell_type": "markdown",
      "metadata": {},
      "source": [
        "Maintenant que notre fonction est définie, nous pouvons l’appeler autant\n",
        "de fois que nous le souhaitons"
      ],
      "id": "03946c36-7347-4ee6-af5b-1aaa43f5d57a"
    },
    {
      "cell_type": "code",
      "execution_count": 2,
      "metadata": {},
      "outputs": [],
      "source": [
        "ma_fonction(2, 6)"
      ],
      "id": "a7b600a9"
    },
    {
      "cell_type": "code",
      "execution_count": 3,
      "metadata": {},
      "outputs": [],
      "source": [
        "ma_fonction(5, 1) + ma_fonction(8, 2)"
      ],
      "id": "aaa073b1"
    },
    {
      "cell_type": "markdown",
      "metadata": {},
      "source": [
        "### 1.1 Arguments\n",
        "\n",
        "Les **arguments** sont les paramètres de la fonction.  \n",
        "Lorsqu’on appelle une fonction en lui spécifiant des arguments, on dit\n",
        "qu’on lui « passe » des arguments.  \n",
        "Ces arguments deviennent alors des **variables** qui peuvent être\n",
        "utilisées uniquement à l’intérieur de la fonction."
      ],
      "id": "0255b065-f7dd-40eb-9e1a-96c04993b844"
    },
    {
      "cell_type": "code",
      "execution_count": 4,
      "metadata": {},
      "outputs": [],
      "source": [
        "def maximum(a, b):\n",
        "    if a > b:\n",
        "        resultat = a\n",
        "    else:\n",
        "        resultat = b\n",
        "    return resultat"
      ],
      "id": "f8a35b80"
    },
    {
      "cell_type": "code",
      "execution_count": 5,
      "metadata": {},
      "outputs": [],
      "source": [
        "maximum(1, 5)"
      ],
      "id": "bf6b4fc1"
    },
    {
      "cell_type": "markdown",
      "metadata": {},
      "source": [
        "À l’extérieur des fonctions, les arguments n’existent plus et ne sont\n",
        "plus connus."
      ],
      "id": "897a9b67-8f60-40c5-b877-4aeacb7f4d8a"
    },
    {
      "cell_type": "code",
      "execution_count": 6,
      "metadata": {},
      "outputs": [],
      "source": [
        "a"
      ],
      "id": "211567ae"
    },
    {
      "cell_type": "markdown",
      "metadata": {},
      "source": [
        "#### Passage par position et passage par mot-clé\n",
        "\n",
        "En Python, les fonctions admettent deux modes de passage des arguments :\n",
        "\n",
        "-   le **passage par position** : les arguments sont passés dans l’ordre\n",
        "    dans lequel ils ont été définis\n",
        "-   le **passage par mot-clé** : on précise le nom du paramètre lors du\n",
        "    passage de l’argument\n",
        "\n",
        "Illustrons cette différence à partir d’une fonction qui réalise\n",
        "simplement une division."
      ],
      "id": "f0ff78f4-613c-4aeb-907a-b7232619a11f"
    },
    {
      "cell_type": "code",
      "execution_count": 7,
      "metadata": {},
      "outputs": [],
      "source": [
        "def division(x, y):\n",
        "    if y == 0:\n",
        "        print(\"ERREUR : Division par 0 impossible\")\n",
        "    else:\n",
        "        return x / y"
      ],
      "id": "0101ca9d"
    },
    {
      "cell_type": "code",
      "execution_count": 8,
      "metadata": {},
      "outputs": [],
      "source": [
        "# Passage par position\n",
        "division(8, 2)  "
      ],
      "id": "7c67dce8"
    },
    {
      "cell_type": "code",
      "execution_count": 9,
      "metadata": {},
      "outputs": [],
      "source": [
        "# Passage par mot-clé\n",
        "division(x=8, y=2)  "
      ],
      "id": "a3c8b046"
    },
    {
      "cell_type": "markdown",
      "metadata": {},
      "source": [
        "Dans le cas du passage par position, le respect de l’ordre est\n",
        "impératif."
      ],
      "id": "bea554c1-8aae-44fb-bfc1-f6210360675a"
    },
    {
      "cell_type": "code",
      "execution_count": 10,
      "metadata": {},
      "outputs": [],
      "source": [
        "print(division(0, 5))\n",
        "print(division(5, 0))"
      ],
      "id": "9bf42c4f"
    },
    {
      "cell_type": "markdown",
      "metadata": {},
      "source": [
        "Nous remarquons que s’affiche **None** ci-dessus.  \n",
        "L’explication est que lorsque l’on passe dans la partie de code\n",
        "`if y == 0`, il n’y a pas de **return**.  \n",
        "Donc par défaut la méthode renvoie **None**, ce qui représente l’absence\n",
        "de valeur.\n",
        "\n",
        "Dans le cas du passage par mot-clé, l’ordre n’a plus d’importance."
      ],
      "id": "9516aa0a-03e7-4825-bf87-c98b787d282a"
    },
    {
      "cell_type": "code",
      "execution_count": 11,
      "metadata": {},
      "outputs": [],
      "source": [
        "print(division(x=0, y=5))\n",
        "print(division(y=5, x=0))"
      ],
      "id": "d993e310"
    },
    {
      "cell_type": "markdown",
      "metadata": {},
      "source": [
        "#### Arguments obligatoires et arguments optionnels\n",
        "\n",
        "Lorsqu’on définit une fonction, il est fréquent de vouloir faire\n",
        "cohabiter :\n",
        "\n",
        "-   des arguments que doit absolument spécifier l’utilisateur\n",
        "-   des arguments optionnels qui spécifient un comportement par défaut\n",
        "    de la fonction, mais peuvent également être modifiés si nécessaire\n",
        "\n",
        "Regardons par exemple comment on peut modifier le comportement de la\n",
        "fonction `print` à l’aide d’un argument optionnel."
      ],
      "id": "21c6aaa6-d491-4e37-8329-6bbd968c4206"
    },
    {
      "cell_type": "code",
      "execution_count": 12,
      "metadata": {},
      "outputs": [],
      "source": [
        "print(\"salut\")\n",
        "print(\"salut\")"
      ],
      "id": "7cfb9f33"
    },
    {
      "cell_type": "code",
      "execution_count": 13,
      "metadata": {},
      "outputs": [],
      "source": [
        "print(\"salut\", end=' ')\n",
        "print(\"salut\")"
      ],
      "id": "46282a97"
    },
    {
      "cell_type": "markdown",
      "metadata": {},
      "source": [
        "Nous avons modifié le comportement du premier appel à **print** via le\n",
        "paramètre optionnel **end**.  \n",
        "Par défaut, cette valeur est fixée à `'\\n'`, soit un retour à la\n",
        "ligne.  \n",
        "Nous l’avons modifié dans la deuxième cellule à un espace, d’où la\n",
        "différence de résultat.\n",
        "\n",
        "Nous allons maintenant créer une fonction avec un argument optionnel.  \n",
        "Pour expliquer le comportement de cette méthode, une documentation a été\n",
        "ajoutée entre les caractères `\"\"\"`."
      ],
      "id": "e487af4c-1067-4e0d-82af-91b46ebeec1b"
    },
    {
      "cell_type": "code",
      "execution_count": 14,
      "metadata": {},
      "outputs": [],
      "source": [
        "def note_finale(note1, note2, bonus=0) -> float:\n",
        "    \"\"\"Fonction d'ajout de 2 notes\n",
        "    Parameters\n",
        "    ----------\n",
        "        note1 : float\n",
        "            la première note\n",
        "        note2 : float\n",
        "            la deuxième note\n",
        "        bonus : float\n",
        "            un bonus (optionnel, par défaut égal à 0)\n",
        "    Returns\n",
        "    -------\n",
        "        float : sommes des 2 notes et du bonus\n",
        "    \"\"\"\n",
        "    return note1 + note2 + bonus"
      ],
      "id": "174c3918"
    },
    {
      "cell_type": "code",
      "execution_count": 15,
      "metadata": {},
      "outputs": [],
      "source": [
        "# Comportement par défaut (bonus=0)\n",
        "note_finale(8.5, 7)  "
      ],
      "id": "062423c7"
    },
    {
      "cell_type": "code",
      "execution_count": 16,
      "metadata": {},
      "outputs": [],
      "source": [
        "# Comportement modifié\n",
        "note_finale(8.5, 7, bonus = 2)  "
      ],
      "id": "8f5eb2b9"
    },
    {
      "cell_type": "markdown",
      "metadata": {},
      "source": [
        "Vous remarquerez également que la signature de la fonction se termine\n",
        "par `-> float`.\n",
        "\n",
        "C’est également un élément de documentation non contraignant. Cela\n",
        "siginfie le type de données attendu en sortie.\n",
        "\n",
        "#### Bonus : nombre d’arguments variable\n",
        "\n",
        "-   La notation `*args` permet à une fonction de recevoir un nombre\n",
        "    variable d’arguments positionnels\n",
        "-   La notation `**kwargs` permet à une fonction de recevoir un nombre\n",
        "    variable d’arguments clé-valeur"
      ],
      "id": "c0513a5d-b369-401a-be4d-94121548ae2c"
    },
    {
      "cell_type": "code",
      "execution_count": 17,
      "metadata": {},
      "outputs": [],
      "source": [
        "# Exemple d'utilisation de args\n",
        "\n",
        "def moyenne(*args):\n",
        "    somme = 0\n",
        "    nb = 0\n",
        "    for a in args:\n",
        "        somme += a\n",
        "        nb += 1\n",
        "    print(f\"Moyenne de {args} : {somme / nb}\")\n",
        "\n",
        "moyenne(10, 15)\n",
        "moyenne(8, 20, 16, 12)"
      ],
      "id": "050133ef"
    },
    {
      "cell_type": "code",
      "execution_count": 18,
      "metadata": {},
      "outputs": [],
      "source": [
        "# Exemple d'utilisation de kwargs\n",
        "\n",
        "def recette(**kwargs):\n",
        "    for a in kwargs:\n",
        "        # get argument name\n",
        "        arg_name = a\n",
        "        # get argument value\n",
        "        arg_value = kwargs[arg_name]\n",
        "        print(arg_name, \" = \", arg_value)\n",
        "    \n",
        "    \n",
        "recette(tomate=2, farine=\"100g\", sel=True)"
      ],
      "id": "05d77dd0"
    },
    {
      "cell_type": "markdown",
      "metadata": {},
      "source": [
        "### 1.2 Résultats\n",
        "\n",
        "#### Principe\n",
        "\n",
        "On a vu :\n",
        "\n",
        "-   que toute fonction renvoie un résultat en sortie\n",
        "-   que l’instruction `return` permet de spécifier ce résultat\n",
        "\n",
        "Lorsque la fonction est appelée, elle est évaluée à la valeur spécifiée\n",
        "par `return`, et cette valeur peut alors être récupérée dans une\n",
        "variable et utilisée dans des calculs ultérieurs, et ainsi de suite."
      ],
      "id": "c3dc2f58-7816-4add-842b-1fb734a63562"
    },
    {
      "cell_type": "code",
      "execution_count": 19,
      "metadata": {},
      "outputs": [],
      "source": [
        "def division(x, y):\n",
        "    return x / y"
      ],
      "id": "1615f4e2"
    },
    {
      "cell_type": "code",
      "execution_count": 20,
      "metadata": {},
      "outputs": [],
      "source": [
        "a = division(4, 2)\n",
        "b = division(9, 3)\n",
        "division(a, b)  # 2 / 3"
      ],
      "id": "88a3ebac"
    },
    {
      "cell_type": "markdown",
      "metadata": {},
      "source": [
        "**Remarque importante** : lorsqu’une instruction return est atteinte\n",
        "dans une fonction, le reste de la fonction n’est pas exécuté."
      ],
      "id": "b28d637e-7748-4beb-8f2e-9a183897dee0"
    },
    {
      "cell_type": "code",
      "execution_count": 21,
      "metadata": {},
      "outputs": [],
      "source": [
        "def test(x):\n",
        "    return x\n",
        "    print(\"vais-je être affiché ?\")\n",
        "    \n",
        "test(3)"
      ],
      "id": "ea53e1a1"
    },
    {
      "cell_type": "markdown",
      "metadata": {},
      "source": [
        "#### Renvoyer plusieurs résultats\n",
        "\n",
        "Une fonction renvoie par définition **un** résultat, qui peut être tout\n",
        "objet Python. Comment faire si l’on souhaite renvoyer plusieurs\n",
        "résultats ? On peut simplement enregistrer les différents résultats dans\n",
        "un conteneur (liste, tuple, dictionnaire, etc.), qui peut lui contenir\n",
        "un grand nombre d’objets."
      ],
      "id": "77f52d72-7ca7-4e27-9278-f8189e2c61c3"
    },
    {
      "cell_type": "code",
      "execution_count": 22,
      "metadata": {},
      "outputs": [],
      "source": [
        "def calculs_mathematiques(a, b):\n",
        "    somme = a + b\n",
        "    difference = a - b\n",
        "    produit = a * b\n",
        "    return somme, difference, produit\n",
        "\n",
        "resultats = calculs_mathematiques(10, 5)\n",
        "\n",
        "print(resultats)\n",
        "type(resultats)"
      ],
      "id": "45f18f4c"
    },
    {
      "cell_type": "markdown",
      "metadata": {},
      "source": [
        "Par défaut, les retours multiples sont des **tuples**.  \n",
        "Mais il est également possible de retourner une liste ou un\n",
        "dictionnaire."
      ],
      "id": "c6d01193-7087-42f3-ae7e-58192f95573b"
    },
    {
      "cell_type": "code",
      "execution_count": 23,
      "metadata": {},
      "outputs": [],
      "source": [
        "def puissance_liste(a):\n",
        "    return [a**2, a**3]\n",
        "\n",
        "puissance_liste(4)"
      ],
      "id": "be71d03e"
    },
    {
      "cell_type": "code",
      "execution_count": 24,
      "metadata": {},
      "outputs": [],
      "source": [
        "def puissance_dico(nombre):\n",
        "    carre = nombre ** 2\n",
        "    cube = nombre ** 3\n",
        "    return {\"carre\": a**2, \"cube\": a**3}\n",
        "\n",
        "puissance_dico(4)"
      ],
      "id": "aac67d5c"
    },
    {
      "cell_type": "markdown",
      "metadata": {},
      "source": [
        "### 1.3 Lambda fonctions\n",
        "\n",
        "Il existe une autre manière concise de définir une fonction simple, la\n",
        "**lambda** fonction."
      ],
      "id": "64bfb1d0-8892-478f-828d-a28c3d54ce0f"
    },
    {
      "cell_type": "code",
      "execution_count": 25,
      "metadata": {},
      "outputs": [],
      "source": [
        "carre = lambda x: x**2\n",
        "\n",
        "carre(6)"
      ],
      "id": "35ccb96d"
    },
    {
      "cell_type": "markdown",
      "metadata": {},
      "source": [
        "------------------------------------------------------------------------\n",
        "\n",
        "## 2 Exercices\n",
        "\n",
        "### 2.1 Exercice 1\n",
        "\n",
        "Créer une fonction `puissance` qui prend en entrée deux nombres `x` et\n",
        "`y` et renvoie la fonction puissance $x^y$."
      ],
      "id": "fd58adbc-193b-457e-9bdd-adcc2086b131"
    },
    {
      "cell_type": "code",
      "execution_count": 26,
      "metadata": {
        "tags": []
      },
      "outputs": [],
      "source": [
        "# Testez votre réponse dans cette cellule"
      ],
      "id": "adfa3f0b"
    },
    {
      "cell_type": "markdown",
      "metadata": {},
      "source": [
        "### 2.2 Exercice 2\n",
        "\n",
        "Écrire une fonction `statistiques_descriptives` qui :\n",
        "\n",
        "-   prend en entrée une liste de nombre\n",
        "-   renvoie la moyenne et la variance"
      ],
      "id": "64e831e7-2187-46c5-9209-43e14a40288e"
    },
    {
      "cell_type": "code",
      "execution_count": 27,
      "metadata": {
        "tags": []
      },
      "outputs": [],
      "source": [
        "# Testez votre réponse dans cette cellule"
      ],
      "id": "5482dcb4"
    },
    {
      "cell_type": "markdown",
      "metadata": {},
      "source": [
        "### 2.3 Exercice 3\n",
        "\n",
        "Écrire une fonction `est_pair` qui :\n",
        "\n",
        "-   prend en entrée un paramètre\n",
        "-   retourne un booléen pour dire si ce paramètre est pair\n",
        "\n",
        "Ajouter un test pour vérifier que le paramètre est un entier."
      ],
      "id": "5091ce56-7082-479d-9c51-14d30c4a890c"
    },
    {
      "cell_type": "code",
      "execution_count": 28,
      "metadata": {},
      "outputs": [],
      "source": [
        "# Testez votre réponse dans cette cellule"
      ],
      "id": "7adc987d"
    },
    {
      "cell_type": "markdown",
      "metadata": {},
      "source": [
        "### 2.4 Exercice 4\n",
        "\n",
        "Écrire une fonction qui :\n",
        "\n",
        "-   prend en entrée une liste d’éléments quelconques\n",
        "-   renvoie une nouvelle liste constituée des éléments uniques de la\n",
        "    liste initiale\n",
        "-   permet via un paramètre optionnel de trier ou non la liste finale\n",
        "    par ordre alphanumérique (le comportement par défaut est de ne pas\n",
        "    trier)."
      ],
      "id": "64838d0e-7c59-4661-9672-d7da5f5408c7"
    },
    {
      "cell_type": "code",
      "execution_count": 29,
      "metadata": {
        "tags": []
      },
      "outputs": [],
      "source": [
        "# Testez votre réponse dans cette cellule"
      ],
      "id": "bf9f4730"
    },
    {
      "cell_type": "markdown",
      "metadata": {},
      "source": [
        "### 2.5 Exercice 5\n",
        "\n",
        "Les fonctions récursives sont des fonctions qui s’appellent elles-mêmes\n",
        "dans le corps de la fonction, ce qui entraîne des appels infinis jusqu’à\n",
        "atteindre un critère d’arrêt (voir exemple du triangle de Pascal\n",
        "ci-dessous).\n",
        "\n",
        "Coder de manière récursive la fonction **factoriel**."
      ],
      "id": "ed27940a-faaa-43e9-aa4a-3285976f09ab"
    },
    {
      "cell_type": "code",
      "execution_count": 30,
      "metadata": {},
      "outputs": [],
      "source": [
        "def triangle_pascal(n):\n",
        "    if n == 0:\n",
        "        return [[1]]                                          # Condition d'arrêt\n",
        "    else:\n",
        "        triangle = triangle_pascal(n - 1)                     # Appel récursif pour obtenir les lignes précédentes\n",
        "        prev_row = triangle[-1]                               # Récupérer la dernière ligne générée\n",
        "        new_row = [1]                                         # Premier élément de la nouvelle ligne\n",
        "        # Calculer les éléments de la nouvelle ligne\n",
        "        for i in range(len(prev_row) - 1):\n",
        "            new_row.append(prev_row[i] + prev_row[i + 1])  \n",
        "        new_row.append(1)                                     # Dernier élément de la nouvelle ligne\n",
        "        triangle.append(new_row)                              # Ajouter la nouvelle ligne au triangle\n",
        "        return triangle\n",
        "\n",
        "print('\\n'.join(['\\t'.join(map(str, row)) for row in triangle_pascal(10)]))"
      ],
      "id": "235c87bd"
    },
    {
      "cell_type": "code",
      "execution_count": 31,
      "metadata": {
        "tags": []
      },
      "outputs": [],
      "source": [
        "# Testez votre réponse dans cette cellule"
      ],
      "id": "387463d5"
    },
    {
      "cell_type": "markdown",
      "metadata": {},
      "source": [
        "### 2.6 Exercice 6\n",
        "\n",
        "Écrire une fonction `appliquer_fonction_liste` qui :\n",
        "\n",
        "-   prend en paramètre :\n",
        "    -   une liste d’entiers\n",
        "    -   une fonction\n",
        "-   retourne la liste à laquelle on a appliqué la fonction\n",
        "\n",
        "Exemple :\n",
        "\n",
        "`appliquer_fonction_liste([1, 2, 3, 4], lambda x: x**2)` -\\>\n",
        "`[1, 4, 9, 16]`"
      ],
      "id": "bd86b0c0-da97-4358-b27f-8d6f5398f424"
    },
    {
      "cell_type": "code",
      "execution_count": 32,
      "metadata": {},
      "outputs": [],
      "source": [
        "# Testez votre réponse dans cette cellule"
      ],
      "id": "f98c778a"
    }
  ],
  "nbformat": 4,
  "nbformat_minor": 5,
  "metadata": {
    "kernelspec": {
      "name": "python3",
      "display_name": "Python 3 (ipykernel)",
      "language": "python",
      "path": "/opt/hostedtoolcache/Python/3.10.18/x64/share/jupyter/kernels/python3"
    },
    "language_info": {
      "name": "python",
      "codemirror_mode": {
        "name": "ipython",
        "version": "3"
      },
      "file_extension": ".py",
      "mimetype": "text/x-python",
      "nbconvert_exporter": "python",
      "pygments_lexer": "ipython3",
      "version": "3.10.18"
    }
  }
}